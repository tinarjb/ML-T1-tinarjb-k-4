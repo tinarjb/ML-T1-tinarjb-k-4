{
 "cells": [
  {
   "cell_type": "markdown",
   "metadata": {},
   "source": [
    "### General Regression Model "
   ]
  },
  {
   "cell_type": "code",
   "execution_count": 18,
   "metadata": {},
   "outputs": [],
   "source": [
    "import numpy as np\n",
    "import pandas as pd\n",
    "import matplotlib.pyplot as plt\n",
    "from sklearn.linear_model import LinearRegression"
   ]
  },
  {
   "cell_type": "code",
   "execution_count": 7,
   "metadata": {},
   "outputs": [],
   "source": [
    "lr_model_N5=LinearRegression(normalize=True)\n",
    "lr_model_N10=LinearRegression(normalize=True)\n",
    "lr_model_N25=LinearRegression(normalize=True)\n",
    "lr_model_N100=LinearRegression(normalize=True)"
   ]
  },
  {
   "cell_type": "code",
   "execution_count": 8,
   "metadata": {},
   "outputs": [],
   "source": [
    "X=np.random.rand(100,1) * 20\n",
    "y=2.358 * X - 3.121\n",
    "y=y+np.random.normal(scale=3, size=y.shape)\n",
    "k=16"
   ]
  },
  {
   "cell_type": "code",
   "execution_count": 9,
   "metadata": {},
   "outputs": [],
   "source": [
    "mylist=[]\n",
    "for i in range(1, k+1):\n",
    "    mylist.append(X ** i)\n",
    "for item in mylist:\n",
    "    X = np.hstack((X,item))"
   ]
  },
  {
   "cell_type": "code",
   "execution_count": 10,
   "metadata": {},
   "outputs": [
    {
     "data": {
      "text/plain": [
       "LinearRegression(normalize=True)"
      ]
     },
     "execution_count": 10,
     "metadata": {},
     "output_type": "execute_result"
    }
   ],
   "source": [
    "lr_model_N5.fit(X[0:5],y[0:5])\n",
    "lr_model_N10.fit(X[0:10],y[0:10])\n",
    "lr_model_N25.fit(X[0:25],y[0:25])\n",
    "lr_model_N100.fit(X[0:100],y[0:100])"
   ]
  },
  {
   "cell_type": "code",
   "execution_count": 11,
   "metadata": {},
   "outputs": [
    {
     "name": "stdout",
     "output_type": "stream",
     "text": [
      "Score for N=5 is 1.0\n",
      "Score for N=10 is 1.0\n",
      "Score for N=25 is 0.993\n",
      "Score for N=100 is 0.961\n"
     ]
    }
   ],
   "source": [
    "print('Score for N=5 is {:.3}'.format(lr_model_N5.score(X[0:5,:],y[0:5])))\n",
    "print('Score for N=10 is {:.3}'.format(lr_model_N10.score(X[0:10,:],y[0:10])))\n",
    "print('Score for N=25 is {:.3}'.format(lr_model_N25.score(X[0:25,:],y[0:25])))\n",
    "print('Score for N=100 is {:.3}'.format(lr_model_N100.score(X[0:100,:],y[0:100])))"
   ]
  },
  {
   "cell_type": "code",
   "execution_count": 12,
   "metadata": {},
   "outputs": [
    {
     "data": {
      "image/png": "[encoded data removed]",
      "text/plain": [
       "<Figure size 432x288 with 1 Axes>"
      ]
     },
     "metadata": {
      "needs_background": "light"
     },
     "output_type": "display_data"
    }
   ],
   "source": [
    "X_line=np.arange(-5,20,0.1).reshape(-1,1)\n",
    "X_line1=X_line\n",
    "mylist2=[]\n",
    "for i in range(1,k+1):\n",
    "    mylist2.append(X_line**i)\n",
    "for item in mylist2:\n",
    "    X_line1=np.hstack((X_line1,item))\n",
    "y_line_N5=lr_model_N5.predict(X_line1)\n",
    "y_line_N10=lr_model_N10.predict(X_line1)\n",
    "y_line_N25=lr_model_N25.predict(X_line1)\n",
    "y_line_N100=lr_model_N100.predict(X_line1)\n",
    "\n",
    "plt.plot(X_line, y_line_N5)\n",
    "plt.plot(X_line, y_line_N10)\n",
    "plt.plot(X_line, y_line_N25)\n",
    "plt.plot(X_line, y_line_N100)\n",
    "plt.legend(['N=5','N=10','N=25','N=100'])\n",
    "plt.plot(X[:,0],y,'bo')\n",
    "plt.xlabel('X')\n",
    "plt.ylabel('y')\n",
    "plt.show()"
   ]
  },
  {
   "cell_type": "code",
   "execution_count": 13,
   "metadata": {},
   "outputs": [],
   "source": [
    "h5=lr_model_N5.predict(X[0:5,:])\n",
    "h10=lr_model_N10.predict(X[0:10,:])\n",
    "h25=lr_model_N25.predict(X[0:25,:])\n",
    "h100=lr_model_N100.predict(X[0:100,:])"
   ]
  },
  {
   "cell_type": "code",
   "execution_count": 14,
   "metadata": {},
   "outputs": [],
   "source": [
    "MSE5=np.mean((y[0:5]-h5)**2)/2\n",
    "MSE10=np.mean((y[0:10]-h10)**2)/2\n",
    "MSE25=np.mean((y[0:25]-h25)**2)/2\n",
    "MSE100=np.mean((y[0:100]-h100)**2)/2\n",
    "MSE=np.array([MSE5,MSE10,MSE25,MSE100])\n",
    "Axis=np.array([5,10,25,100])"
   ]
  },
  {
   "cell_type": "code",
   "execution_count": 15,
   "metadata": {},
   "outputs": [
    {
     "data": {
      "text/plain": [
       "array([2.39813715e-28, 2.83019911e-23, 6.07460844e-01, 3.42692975e+00])"
      ]
     },
     "execution_count": 15,
     "metadata": {},
     "output_type": "execute_result"
    },
    {
     "data": {
      "image/png": "[encoded data removed]",
      "text/plain": [
       "<Figure size 432x288 with 1 Axes>"
      ]
     },
     "metadata": {
      "needs_background": "light"
     },
     "output_type": "display_data"
    }
   ],
   "source": [
    "plt.plot(Axis,MSE,'b*')\n",
    "plt.xlabel('Number of data point')\n",
    "plt.ylabel('MSE')\n",
    "MSE"
   ]
  },
  {
   "cell_type": "code",
   "execution_count": null,
   "metadata": {},
   "outputs": [],
   "source": []
  }
 ],
 "metadata": {
  "kernelspec": {
   "display_name": "Python 3",
   "language": "python",
   "name": "python3"
  },
  "language_info": {
   "codemirror_mode": {
    "name": "ipython",
    "version": 3
   },
   "file_extension": ".py",
   "mimetype": "text/x-python",
   "name": "python",
   "nbconvert_exporter": "python",
   "pygments_lexer": "ipython3",
   "version": "3.8.3"
  }
 },
 "nbformat": 4,
 "nbformat_minor": 4
}
